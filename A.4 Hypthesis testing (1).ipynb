{
 "cells": [
  {
   "cell_type": "code",
   "execution_count": 1,
   "id": "1f9cee22-a0e0-4990-9e28-4cb99302fa1c",
   "metadata": {},
   "outputs": [],
   "source": [
    "import pandas as pd\n",
    "import numpy as np\n",
    "import scipy.stats as stats"
   ]
  },
  {
   "cell_type": "markdown",
   "id": "36f06267-39de-4dd3-95f2-a05434b62c63",
   "metadata": {},
   "source": [
    "## Background:\n"
   ]
  },
  {
   "cell_type": "markdown",
   "id": "c3ab5c4b-fc08-42e1-971d-1361f0a93337",
   "metadata": {},
   "source": [
    "Bombay hospitality Ltd. operates a franchise model for producing exotic Norwegian dinners throughout New England. The operating cost for a franchise in a week (W) is given by the equation W = 1000+5X\n",
    "5X, where X represents the number of units produced in a week. Recent feedback from restaurant owners suggests that this cost model may no longer be accurate, as their observed weekly operating costs are higher. Objective: To investigate the restaurant owners' claim about the increase in weekly operating costs using hypothesis testing.\n",
    "Data Provided:\n",
    "• The theoretical weekly operating cost model: W = 1000+5X\n",
    "• Sample of 25 restaurants with a mean weekly cost of Rs. 3,050\n",
    "• Number of units produced in a week (X) follows a normal distribution with a mean (μ) of 600 units and a standard deviation (σ) of 25 units"
   ]
  },
  {
   "cell_type": "markdown",
   "id": "679ae738-b2b4-4afb-8dd7-5af99bcd3769",
   "metadata": {},
   "source": [
    "## state the hypothesis statement\n",
    "\n",
    "H0:μ = 1000+5*600= 4000\n",
    "\n",
    "Ha:μ = >4000"
   ]
  },
  {
   "cell_type": "code",
   "execution_count": 10,
   "id": "11985226-e62f-4a21-a2d9-ecdd9ff11ddd",
   "metadata": {},
   "outputs": [],
   "source": [
    "## given data\n",
    "sample_mean = 3050  # sample mean weekly cost (Rs.)\n",
    "theoretical_mean = 1000 + 5 * 600  # theoretical mean weekly cost according to the cost model (W = $1,000 + $5X for X = 600 units)\n",
    "standard_deviation = 5 * 25  # standard deviation of the population\n",
    "sample_size = 25  # sample size\n",
    "alpha = 0.05  # significance level"
   ]
  },
  {
   "cell_type": "code",
   "execution_count": 34,
   "id": "cab3c4b9-a90b-4efe-bd61-ff83129cddeb",
   "metadata": {},
   "outputs": [],
   "source": [
    "\n",
    "# Calculate the test statistic (t)\n",
    "standard_error = standard_deviation / np.sqrt(sample_size)\n",
    "\n",
    "t_statistics = (sample_mean - theoretical_mean) / standard_error\n"
   ]
  },
  {
   "cell_type": "code",
   "execution_count": 36,
   "id": "bbcc8a42-caea-469c-8c88-2ec07199f74e",
   "metadata": {},
   "outputs": [
    {
     "name": "stdout",
     "output_type": "stream",
     "text": [
      "standard error 25.0\n",
      "t statistics -38.0\n"
     ]
    }
   ],
   "source": [
    "print(\"standard error\",standard_error)\n",
    "print(\"t statistics\",t_statistic)"
   ]
  },
  {
   "cell_type": "code",
   "execution_count": 55,
   "id": "1b4e2cc7-3f4f-4679-a9a3-5d9901d7037e",
   "metadata": {},
   "outputs": [
    {
     "name": "stdout",
     "output_type": "stream",
     "text": [
      "degree of freedom 24\n",
      "Critical value 1.7108820799094275\n"
     ]
    }
   ],
   "source": [
    "# Determine the critical value from the t-distribution\n",
    "degrees_of_freedom = sample_size - 1\n",
    "critical_value = stats.t.ppf(1 - alpha, degrees_of_freedom)\n",
    "print('degree of freedom',degrees_of_freedom)\n",
    "print('Critical value',critical_value)"
   ]
  },
  {
   "cell_type": "code",
   "execution_count": 40,
   "id": "d14abe65-7eec-4095-9d98-7e9d17cc5d13",
   "metadata": {},
   "outputs": [
    {
     "data": {
      "text/plain": [
       "False"
      ]
     },
     "execution_count": 40,
     "metadata": {},
     "output_type": "execute_result"
    }
   ],
   "source": [
    "##Compare the test statistic with the critical value to decide whether to reject the null hypothesis.\n",
    "Reject_null = t_statistics > critical_value\n",
    "Reject_null"
   ]
  },
  {
   "cell_type": "code",
   "execution_count": 57,
   "id": "102560f9-87be-4986-b732-de8c64a95ed8",
   "metadata": {},
   "outputs": [
    {
     "data": {
      "text/plain": [
       "(-38.0, 1.7108820799094275, False)"
      ]
     },
     "execution_count": 57,
     "metadata": {},
     "output_type": "execute_result"
    }
   ],
   "source": [
    "t_statistics, critical_value, Reject_null  "
   ]
  },
  {
   "cell_type": "markdown",
   "id": "7b28e1f5-c2fc-4988-86e9-f6c933d6d434",
   "metadata": {},
   "source": [
    "# Result"
   ]
  },
  {
   "cell_type": "markdown",
   "id": "01ff1580-0f20-40ba-a7a0-a64c20a817b8",
   "metadata": {},
   "source": [
    "#a.Test Statistics (t) : -38.0\n",
    "\n",
    "b.Critical Value : 1.710\n",
    "\n",
    "c.Decision : Do not reject the null hypothesis"
   ]
  },
  {
   "cell_type": "code",
   "execution_count": null,
   "id": "0398a577-3c44-42de-8424-9ba56e036eb7",
   "metadata": {},
   "outputs": [],
   "source": []
  }
 ],
 "metadata": {
  "kernelspec": {
   "display_name": "Python [conda env:base] *",
   "language": "python",
   "name": "conda-base-py"
  },
  "language_info": {
   "codemirror_mode": {
    "name": "ipython",
    "version": 3
   },
   "file_extension": ".py",
   "mimetype": "text/x-python",
   "name": "python",
   "nbconvert_exporter": "python",
   "pygments_lexer": "ipython3",
   "version": "3.12.7"
  }
 },
 "nbformat": 4,
 "nbformat_minor": 5
}
