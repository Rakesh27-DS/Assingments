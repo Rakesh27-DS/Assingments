{
 "cells": [
  {
   "cell_type": "code",
   "execution_count": 9,
   "id": "064718a5-e876-451b-a16e-496e8f68f4c6",
   "metadata": {},
   "outputs": [
    {
     "name": "stdin",
     "output_type": "stream",
     "text": [
      "Enter the number: 27\n"
     ]
    },
    {
     "name": "stdout",
     "output_type": "stream",
     "text": [
      "27is not prime number\n"
     ]
    }
   ],
   "source": [
    "import sympy ## For  prime numbers\n",
    "num=int(input('Enter the number:'))\n",
    "if sympy.isprime(num):                ## isprime is function\n",
    "    print(f'{num}is prime number')    ## Print using f-format\n",
    "else:\n",
    "    print(f'{num}is not prime number')"
   ]
  },
  {
   "cell_type": "code",
   "execution_count": 5,
   "id": "623cb3a9-3539-47d0-84bd-e9110226c21d",
   "metadata": {},
   "outputs": [
    {
     "name": "stdin",
     "output_type": "stream",
     "text": [
      "Enter the Number: 11\n"
     ]
    },
    {
     "name": "stdout",
     "output_type": "stream",
     "text": [
      "11is prime number\n"
     ]
    }
   ],
   "source": [
    "num= int(input('Enter the Number:'))\n",
    "if sympy.isprime(num):\n",
    "    print(f'{num}is prime number')\n",
    "else:\n",
    "\n",
    "    print(f'{num}is not prime number')\n",
    "    "
   ]
  },
  {
   "cell_type": "code",
   "execution_count": 15,
   "id": "028bd914-c7a3-45cf-aebe-a6061417b159",
   "metadata": {},
   "outputs": [
    {
     "data": {
      "text/plain": [
       "True"
      ]
     },
     "execution_count": 15,
     "metadata": {},
     "output_type": "execute_result"
    }
   ],
   "source": [
    "sympy.isprime(5)"
   ]
  },
  {
   "cell_type": "code",
   "execution_count": 13,
   "id": "a009f683-c517-42d1-b3f0-23004f34c401",
   "metadata": {},
   "outputs": [
    {
     "name": "stdin",
     "output_type": "stream",
     "text": [
      "Enter the number: 5\n"
     ]
    },
    {
     "name": "stdout",
     "output_type": "stream",
     "text": [
      "5is prime number\n"
     ]
    }
   ],
   "source": [
    "num=int(input('Enter the number:'))\n",
    "if sympy.isprime(num):\n",
    "    print(f'{num}is prime number')\n",
    "else:\n",
    "    print(f'{num}is not prime number')"
   ]
  },
  {
   "cell_type": "markdown",
   "id": "7759b122-6555-4004-9180-8dcc486f97f5",
   "metadata": {},
   "source": [
    "# product of 2 random numbers\n"
   ]
  },
  {
   "cell_type": "code",
   "execution_count": 4,
   "id": "1ad4af89-98b3-4a23-884f-c764ab1481f5",
   "metadata": {},
   "outputs": [
    {
     "name": "stdout",
     "output_type": "stream",
     "text": [
      "produced number: 29\n",
      "produced number: 17\n",
      "product result: 493\n"
     ]
    }
   ],
   "source": [
    "import random                    # import the random function\n",
    "num1=random.randint(0,30)        # taking the random variable between 0-30\n",
    "num2=random.randint(0,30)\n",
    "print(\"produced number:\",num1)\n",
    "print(\"produced number:\",num2)\n",
    "product = num1 * num2           # Multification of 2 Nos\n",
    "print(\"product result:\",product) "
   ]
  },
  {
   "cell_type": "code",
   "execution_count": 6,
   "id": "03a91062-42e3-4fb2-91eb-a2ab929b3d92",
   "metadata": {},
   "outputs": [
    {
     "name": "stdout",
     "output_type": "stream",
     "text": [
      "produced number: 9\n",
      "produced number: 9\n",
      "Product result: 81\n"
     ]
    }
   ],
   "source": [
    "import random\n",
    "num1=random.randint(0,10)\n",
    "num2=random.randint(0,10)\n",
    "print(\"produced number:\",num1)\n",
    "print(\"produced number:\",num2)\n",
    "product=num1*num2\n",
    "print(\"Product result:\",product)"
   ]
  },
  {
   "cell_type": "markdown",
   "id": "9dddd255-0e85-44dd-9bb7-161af4c57ce6",
   "metadata": {},
   "source": [
    "Squares of Odd/Even numbers\n"
   ]
  },
  {
   "cell_type": "code",
   "execution_count": 32,
   "id": "f7e5d197-f8d9-4279-ad89-9a671c65287c",
   "metadata": {},
   "outputs": [],
   "source": [
    "def fun(x):\n",
    "    if x%2==0:\n",
    "        return 'number is even'\n",
    "    else:\n",
    "        return 'number is odd'"
   ]
  },
  {
   "cell_type": "code",
   "execution_count": 34,
   "id": "71a50c53-c83d-4d69-adbe-f9d973a364f4",
   "metadata": {},
   "outputs": [
    {
     "data": {
      "text/plain": [
       "'number is odd'"
      ]
     },
     "execution_count": 34,
     "metadata": {},
     "output_type": "execute_result"
    }
   ],
   "source": [
    "fun(127)"
   ]
  },
  {
   "cell_type": "code",
   "execution_count": 36,
   "id": "d8d50372-7683-4ccb-a02b-67fa32348b4a",
   "metadata": {},
   "outputs": [
    {
     "name": "stdout",
     "output_type": "stream",
     "text": [
      "Even Square: 10000\n",
      "Odd Square: 10201\n",
      "Even Square: 10404\n",
      "Odd Square: 10609\n",
      "Even Square: 10816\n",
      "Odd Square: 11025\n",
      "Even Square: 11236\n",
      "Odd Square: 11449\n",
      "Even Square: 11664\n",
      "Odd Square: 11881\n",
      "Even Square: 12100\n",
      "Odd Square: 12321\n",
      "Even Square: 12544\n",
      "Odd Square: 12769\n",
      "Even Square: 12996\n",
      "Odd Square: 13225\n",
      "Even Square: 13456\n",
      "Odd Square: 13689\n",
      "Even Square: 13924\n",
      "Odd Square: 14161\n",
      "Even Square: 14400\n",
      "Odd Square: 14641\n",
      "Even Square: 14884\n",
      "Odd Square: 15129\n",
      "Even Square: 15376\n",
      "Odd Square: 15625\n",
      "Even Square: 15876\n",
      "Odd Square: 16129\n",
      "Even Square: 16384\n",
      "Odd Square: 16641\n",
      "Even Square: 16900\n",
      "Odd Square: 17161\n",
      "Even Square: 17424\n",
      "Odd Square: 17689\n",
      "Even Square: 17956\n",
      "Odd Square: 18225\n",
      "Even Square: 18496\n",
      "Odd Square: 18769\n",
      "Even Square: 19044\n",
      "Odd Square: 19321\n",
      "Even Square: 19600\n",
      "Odd Square: 19881\n",
      "Even Square: 20164\n",
      "Odd Square: 20449\n",
      "Even Square: 20736\n",
      "Odd Square: 21025\n",
      "Even Square: 21316\n",
      "Odd Square: 21609\n",
      "Even Square: 21904\n",
      "Odd Square: 22201\n",
      "Even Square: 22500\n",
      "Odd Square: 22801\n",
      "Even Square: 23104\n",
      "Odd Square: 23409\n",
      "Even Square: 23716\n",
      "Odd Square: 24025\n",
      "Even Square: 24336\n",
      "Odd Square: 24649\n",
      "Even Square: 24964\n",
      "Odd Square: 25281\n",
      "Even Square: 25600\n",
      "Odd Square: 25921\n",
      "Even Square: 26244\n",
      "Odd Square: 26569\n",
      "Even Square: 26896\n",
      "Odd Square: 27225\n",
      "Even Square: 27556\n",
      "Odd Square: 27889\n",
      "Even Square: 28224\n",
      "Odd Square: 28561\n",
      "Even Square: 28900\n",
      "Odd Square: 29241\n",
      "Even Square: 29584\n",
      "Odd Square: 29929\n",
      "Even Square: 30276\n",
      "Odd Square: 30625\n",
      "Even Square: 30976\n",
      "Odd Square: 31329\n",
      "Even Square: 31684\n",
      "Odd Square: 32041\n",
      "Even Square: 32400\n",
      "Odd Square: 32761\n",
      "Even Square: 33124\n",
      "Odd Square: 33489\n",
      "Even Square: 33856\n",
      "Odd Square: 34225\n",
      "Even Square: 34596\n",
      "Odd Square: 34969\n",
      "Even Square: 35344\n",
      "Odd Square: 35721\n",
      "Even Square: 36100\n",
      "Odd Square: 36481\n",
      "Even Square: 36864\n",
      "Odd Square: 37249\n",
      "Even Square: 37636\n",
      "Odd Square: 38025\n",
      "Even Square: 38416\n",
      "Odd Square: 38809\n",
      "Even Square: 39204\n",
      "Odd Square: 39601\n"
     ]
    }
   ],
   "source": [
    "odd=[0]\n",
    "even=[0]                             #Initilazing Even&odd from '0'\n",
    "for i in range (100,200):           # given range\n",
    "    if i%2==0:                # divisable by 0 then it is even otherwise odd\n",
    "        even=i**2\n",
    "        print(\"Even Square:\",even)\n",
    "    else:\n",
    "            odd=i**2\n",
    "            print(\"Odd Square:\",odd)"
   ]
  },
  {
   "cell_type": "code",
   "execution_count": 38,
   "id": "68d45394-426f-4da0-8ca8-6740dfde3b6c",
   "metadata": {},
   "outputs": [
    {
     "name": "stdout",
     "output_type": "stream",
     "text": [
      "Even Square: 10000\n",
      "Odd Square: 10201\n",
      "Even Square: 10404\n",
      "Odd Square: 10609\n",
      "Even Square: 10816\n",
      "Odd Square: 11025\n",
      "Even Square: 11236\n",
      "Odd Square: 11449\n",
      "Even Square: 11664\n",
      "Odd Square: 11881\n",
      "Even Square: 12100\n",
      "Odd Square: 12321\n",
      "Even Square: 12544\n",
      "Odd Square: 12769\n",
      "Even Square: 12996\n",
      "Odd Square: 13225\n",
      "Even Square: 13456\n",
      "Odd Square: 13689\n",
      "Even Square: 13924\n",
      "Odd Square: 14161\n",
      "Even Square: 14400\n",
      "Odd Square: 14641\n",
      "Even Square: 14884\n",
      "Odd Square: 15129\n",
      "Even Square: 15376\n",
      "Odd Square: 15625\n",
      "Even Square: 15876\n",
      "Odd Square: 16129\n",
      "Even Square: 16384\n",
      "Odd Square: 16641\n",
      "Even Square: 16900\n",
      "Odd Square: 17161\n",
      "Even Square: 17424\n",
      "Odd Square: 17689\n",
      "Even Square: 17956\n",
      "Odd Square: 18225\n",
      "Even Square: 18496\n",
      "Odd Square: 18769\n",
      "Even Square: 19044\n",
      "Odd Square: 19321\n",
      "Even Square: 19600\n",
      "Odd Square: 19881\n",
      "Even Square: 20164\n",
      "Odd Square: 20449\n",
      "Even Square: 20736\n",
      "Odd Square: 21025\n",
      "Even Square: 21316\n",
      "Odd Square: 21609\n",
      "Even Square: 21904\n",
      "Odd Square: 22201\n",
      "Even Square: 22500\n",
      "Odd Square: 22801\n",
      "Even Square: 23104\n",
      "Odd Square: 23409\n",
      "Even Square: 23716\n",
      "Odd Square: 24025\n",
      "Even Square: 24336\n",
      "Odd Square: 24649\n",
      "Even Square: 24964\n",
      "Odd Square: 25281\n",
      "Even Square: 25600\n",
      "Odd Square: 25921\n",
      "Even Square: 26244\n",
      "Odd Square: 26569\n",
      "Even Square: 26896\n",
      "Odd Square: 27225\n",
      "Even Square: 27556\n",
      "Odd Square: 27889\n",
      "Even Square: 28224\n",
      "Odd Square: 28561\n",
      "Even Square: 28900\n",
      "Odd Square: 29241\n",
      "Even Square: 29584\n",
      "Odd Square: 29929\n",
      "Even Square: 30276\n",
      "Odd Square: 30625\n",
      "Even Square: 30976\n",
      "Odd Square: 31329\n",
      "Even Square: 31684\n",
      "Odd Square: 32041\n",
      "Even Square: 32400\n",
      "Odd Square: 32761\n",
      "Even Square: 33124\n",
      "Odd Square: 33489\n",
      "Even Square: 33856\n",
      "Odd Square: 34225\n",
      "Even Square: 34596\n",
      "Odd Square: 34969\n",
      "Even Square: 35344\n",
      "Odd Square: 35721\n",
      "Even Square: 36100\n",
      "Odd Square: 36481\n",
      "Even Square: 36864\n",
      "Odd Square: 37249\n",
      "Even Square: 37636\n",
      "Odd Square: 38025\n",
      "Even Square: 38416\n",
      "Odd Square: 38809\n",
      "Even Square: 39204\n",
      "Odd Square: 39601\n"
     ]
    }
   ],
   "source": [
    "odd=[0]\n",
    "even=[0]\n",
    "for i in range (100,200):\n",
    "        if i%2==0:\n",
    "            even=i**2\n",
    "        else:\n",
    "                odd=i**2\n",
    "                print(\"Even Square:\",even)\n",
    "                print(\"Odd Square:\",odd)"
   ]
  },
  {
   "cell_type": "markdown",
   "id": "47bcc227-a8e5-474d-8b9d-43e4db4a2662",
   "metadata": {},
   "source": [
    "## WORD COUNTER"
   ]
  },
  {
   "cell_type": "code",
   "execution_count": 41,
   "id": "c1a4fec8-6bad-4096-9bf5-006c33eb3d65",
   "metadata": {},
   "outputs": [
    {
     "data": {
      "text/plain": [
       "2"
      ]
     },
     "execution_count": 41,
     "metadata": {},
     "output_type": "execute_result"
    }
   ],
   "source": [
    "str=\"This is a sample text. This text will be used to demonstrate the word counter\"\n",
    "str.count('This')"
   ]
  },
  {
   "cell_type": "code",
   "execution_count": 43,
   "id": "f6c72f77-c138-4a4f-a0ef-716dd8900cd0",
   "metadata": {},
   "outputs": [
    {
     "data": {
      "text/plain": [
       "1"
      ]
     },
     "execution_count": 43,
     "metadata": {},
     "output_type": "execute_result"
    }
   ],
   "source": [
    "str.count('is',4,7)  # By using index"
   ]
  },
  {
   "cell_type": "code",
   "execution_count": 45,
   "id": "b6318e2d-dcbf-43d8-908e-499f75cb9b87",
   "metadata": {},
   "outputs": [
    {
     "data": {
      "text/plain": [
       "1"
      ]
     },
     "execution_count": 45,
     "metadata": {},
     "output_type": "execute_result"
    }
   ],
   "source": [
    "str.count('a',4,9)   # By using index"
   ]
  },
  {
   "cell_type": "code",
   "execution_count": 47,
   "id": "d1669a32-24c8-4383-aa8e-9611d4e48b75",
   "metadata": {},
   "outputs": [
    {
     "name": "stdin",
     "output_type": "stream",
     "text": [
      "Enter the string: 3\n"
     ]
    },
    {
     "name": "stdout",
     "output_type": "stream",
     "text": [
      "{'This': 2, 'is': 1, 'a': 1, 'sample': 1, 'text.': 1, 'text': 1, 'will': 1, 'be': 1, 'used': 1, 'to': 1, 'demonstrate': 1, 'the': 1, 'word': 1, 'counter': 1}\n"
     ]
    }
   ],
   "source": [
    "s=input (\"Enter the string:\")   #This is a sample text. This text will be used to demonstrate the word counter\"\n",
    "words= str.split()     # split the str\n",
    "counts={}              # count the empty dict\n",
    "for i in words:        # Loop using in words\n",
    "    if i in counts:\n",
    "        counts[i]+=1   # incrementing the count vlaue\n",
    "    else:\n",
    "          counts[i]=1\n",
    "print (counts)\n",
    "            "
   ]
  },
  {
   "cell_type": "code",
   "execution_count": 49,
   "id": "6fe645e5-395e-4fb8-b67d-a329c7b303b6",
   "metadata": {},
   "outputs": [
    {
     "name": "stdout",
     "output_type": "stream",
     "text": [
      "{'This': 2, 'is': 1, 'a': 1, 'sample': 1, 'text.': 1, 'text': 1, 'will': 1, 'be': 1, 'used': 1, 'to': 1, 'demonstrate': 1, 'the': 1, 'word': 1, 'counter': 1}\n"
     ]
    }
   ],
   "source": [
    "str=\"This is a sample text. This text will be used to demonstrate the word counter\"\n",
    "sent=str.split()  # split the str\n",
    "counts={}          # empty dict count\n",
    "for i in sent:    # loop using in word\n",
    "    if i in counts:    #if word is in empty dictionary \n",
    "        counts [i]+=1  # increamenting the count value\n",
    "    else:\n",
    "            counts [i]=1\n",
    "print(counts)"
   ]
  },
  {
   "cell_type": "markdown",
   "id": "a8975e70-d981-4b9d-8e50-058cbd5f5f37",
   "metadata": {},
   "source": [
    "## Palindrome"
   ]
  },
  {
   "cell_type": "code",
   "execution_count": 1,
   "id": "72a7b1c0-969a-4739-a196-3597a240280e",
   "metadata": {},
   "outputs": [
    {
     "name": "stdin",
     "output_type": "stream",
     "text": [
      "Enter the string: racecar\n"
     ]
    },
    {
     "name": "stdout",
     "output_type": "stream",
     "text": [
      "True:\n"
     ]
    }
   ],
   "source": [
    "s=input(\"Enter the string:\")\n",
    "reverse=s[::-1]            #-1 Reverse the string\n",
    "if(s==reverse):          # use the condition statement\n",
    "    print(\"True:\")\n",
    "else:\n",
    "    print(\"False:\")"
   ]
  },
  {
   "cell_type": "code",
   "execution_count": 3,
   "id": "4b64a4ca-f6fb-442b-a119-070501d51313",
   "metadata": {},
   "outputs": [],
   "source": [
    "import random\n",
    "\n",
    "def generate_random_numbers():\n",
    "    num1 = random.randint(1, 10)\n",
    "    num2 = random.randint(1, 10)\n",
    "    return num1, num2\n",
    "\n",
    "def check_answer(num1, num2, user_answer):\n",
    "    correct_answer = num1 * num2\n",
    "    if user_answer == correct_answer:\n",
    "        return True\n",
    "    else:\n",
    "        return False"
   ]
  },
  {
   "cell_type": "code",
   "execution_count": null,
   "id": "778478ca-e4ab-48a9-9d0e-717a4a1f5b01",
   "metadata": {},
   "outputs": [
    {
     "name": "stdout",
     "output_type": "stream",
     "text": [
      "Please enter the product of 7 and 10\n"
     ]
    }
   ],
   "source": [
    "num1, num2 = generate_random_numbers()\n",
    "print(\"Please enter the product of\", num1, \"and\", num2)\n",
    "user_answer = int(input(\"Your answer: \"))\n",
    "if check_answer(num1, num2, user_answer):\n",
    "    print(\"Congratulations! Your answer is correct.\")\n",
    "else:\n",
    "    print(\"Sorry, your answer is incorrect. The correct answer is:\", num1 * num2)"
   ]
  },
  {
   "cell_type": "code",
   "execution_count": null,
   "id": "546c5d9d-43c3-4f6d-8338-f50642f58598",
   "metadata": {},
   "outputs": [],
   "source": []
  }
 ],
 "metadata": {
  "kernelspec": {
   "display_name": "Python [conda env:base] *",
   "language": "python",
   "name": "conda-base-py"
  },
  "language_info": {
   "codemirror_mode": {
    "name": "ipython",
    "version": 3
   },
   "file_extension": ".py",
   "mimetype": "text/x-python",
   "name": "python",
   "nbconvert_exporter": "python",
   "pygments_lexer": "ipython3",
   "version": "3.12.7"
  }
 },
 "nbformat": 4,
 "nbformat_minor": 5
}
