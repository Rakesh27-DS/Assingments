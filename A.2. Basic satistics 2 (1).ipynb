{
 "cells": [
  {
   "cell_type": "markdown",
   "id": "5d05b09e-c582-4b12-b932-c39cbe39eb07",
   "metadata": {},
   "source": [
    "##Estimation And Confidence Interval"
   ]
  },
  {
   "cell_type": "code",
   "execution_count": 2,
   "id": "52ddf6d0-c1b1-4bc7-9eca-87685f3505e4",
   "metadata": {},
   "outputs": [],
   "source": [
    "import numpy as np\n",
    "from scipy.stats import t"
   ]
  },
  {
   "cell_type": "code",
   "execution_count": 8,
   "id": "0c20af21-c083-43bd-a229-b28a5ff770d4",
   "metadata": {},
   "outputs": [],
   "source": [
    "# Sample data\n",
    "data = np.array([1.22, 2.55, 1.53, 0.82, 2.25, 1.06, 1.52, 0.85, 3.07, 2.48, 1.20, 1.27, 1.18, 1.42, 1.66])\n",
    "sample_mean = np.mean(data)\n",
    "sample_std = np.std(data, ddof=1)  # ddof=1 for sample standard deviation\n",
    "sample_size = len(data)\n"
   ]
  },
  {
   "cell_type": "code",
   "execution_count": 10,
   "id": "2933cb0c-c93e-4580-8ef0-34a959d862c4",
   "metadata": {},
   "outputs": [
    {
     "data": {
      "text/plain": [
       "1.605333333333333"
      ]
     },
     "execution_count": 10,
     "metadata": {},
     "output_type": "execute_result"
    }
   ],
   "source": [
    "sample_mean"
   ]
  },
  {
   "cell_type": "code",
   "execution_count": 12,
   "id": "d7b19779-1ff0-4771-9964-8f5a3b69c2e7",
   "metadata": {},
   "outputs": [
    {
     "data": {
      "text/plain": [
       "0.6739739997811134"
      ]
     },
     "execution_count": 12,
     "metadata": {},
     "output_type": "execute_result"
    }
   ],
   "source": [
    "sample_std"
   ]
  },
  {
   "cell_type": "code",
   "execution_count": 14,
   "id": "1add1efa-3d00-4ca3-bfd6-5c59e839753c",
   "metadata": {},
   "outputs": [
    {
     "data": {
      "text/plain": [
       "15"
      ]
     },
     "execution_count": 14,
     "metadata": {},
     "output_type": "execute_result"
    }
   ],
   "source": [
    "sample_size"
   ]
  },
  {
   "cell_type": "code",
   "execution_count": 26,
   "id": "b9532c54-55cb-43b1-9905-f2b3b0ed63fa",
   "metadata": {},
   "outputs": [],
   "source": [
    "# 1. Confidence interval using sample standard deviation\n",
    "confidence_level = 0.99\n",
    "alpha = 1 - confidence_level\n",
    "t_value = t.ppf(1 - alpha/2, df=sample_size - 1)\n",
    "margin_of_error = t_value * sample_std / np.sqrt(sample_size)\n",
    "confidence_interval_1= (sample_mean - margin_of_error, sample_mean + margin_of_error)"
   ]
  },
  {
   "cell_type": "code",
   "execution_count": 28,
   "id": "1f3c4a86-b746-4194-84cb-c6b2429c54e2",
   "metadata": {},
   "outputs": [
    {
     "data": {
      "text/plain": [
       "(1.087305129992897, 2.123361536673769)"
      ]
     },
     "execution_count": 28,
     "metadata": {},
     "output_type": "execute_result"
    }
   ],
   "source": [
    "confidence_interval_1"
   ]
  },
  {
   "cell_type": "code",
   "execution_count": 36,
   "id": "df028e45-78c3-490a-8737-54f75ae77ab8",
   "metadata": {},
   "outputs": [],
   "source": [
    "## 2. Confidence interval using known population standard deviation\n",
    "population_std = 0.2\n",
    "z_value = t.ppf(1 - alpha/2, df=sample_size - 1)  # Using t-distribution for small sample size\n",
    "margin_of_error_2 = z_value * population_std / np.sqrt(sample_size)\n",
    "confidence_interval_2 = (sample_mean - margin_of_error_2, sample_mean + margin_of_error_2)\n"
   ]
  },
  {
   "cell_type": "code",
   "execution_count": 38,
   "id": "0e40a9ec-ef13-4964-b714-bd82d041ded7",
   "metadata": {},
   "outputs": [
    {
     "name": "stdout",
     "output_type": "stream",
     "text": [
      "a. Confidence Interval Using Sample Standard Deviation: (1.087305129992897, 2.123361536673769)\n",
      "b. Confidence Interval Using Known Population Standard Deviation: (1.4516098355400424, 1.7590568311266237)\n"
     ]
    }
   ],
   "source": [
    "print(\"a. Confidence Interval Using Sample Standard Deviation:\", confidence_interval_1)\n",
    "print(\"b. Confidence Interval Using Known Population Standard Deviation:\", confidence_interval_2)"
   ]
  },
  {
   "cell_type": "code",
   "execution_count": null,
   "id": "8062ec24-633d-48fc-9c29-1569f1d2f080",
   "metadata": {},
   "outputs": [],
   "source": []
  }
 ],
 "metadata": {
  "kernelspec": {
   "display_name": "Python [conda env:base] *",
   "language": "python",
   "name": "conda-base-py"
  },
  "language_info": {
   "codemirror_mode": {
    "name": "ipython",
    "version": 3
   },
   "file_extension": ".py",
   "mimetype": "text/x-python",
   "name": "python",
   "nbconvert_exporter": "python",
   "pygments_lexer": "ipython3",
   "version": "3.12.7"
  }
 },
 "nbformat": 4,
 "nbformat_minor": 5
}
