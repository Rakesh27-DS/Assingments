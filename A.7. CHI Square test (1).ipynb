{
 "cells": [
  {
   "cell_type": "code",
   "execution_count": 4,
   "id": "3f3ddf35-3969-4480-a6bd-8da203cf2ef5",
   "metadata": {},
   "outputs": [],
   "source": [
    "import numpy as np\n",
    "from scipy.stats import chi2_contingency"
   ]
  },
  {
   "cell_type": "markdown",
   "id": "ff01c19b-ab39-465b-ad1e-c641fb029d45",
   "metadata": {},
   "source": [
    "# compute chisquare statistics"
   ]
  },
  {
   "cell_type": "code",
   "execution_count": 9,
   "id": "ad0d24c3-43c6-4694-8ebc-d1cf29c1a014",
   "metadata": {},
   "outputs": [],
   "source": [
    "# Observed frequencies\n",
    "observed = np.array([\n",
    "    [50, 70],\n",
    "    [80, 100],\n",
    "    [60, 90],\n",
    "    [30, 50],\n",
    "    [20, 50]\n",
    "])"
   ]
  },
  {
   "cell_type": "code",
   "execution_count": 13,
   "id": "c73361b4-61e4-424b-a2c9-eeac52deb9fb",
   "metadata": {},
   "outputs": [],
   "source": [
    "chi2, p, dof, expected = chi2_contingency(observed)"
   ]
  },
  {
   "cell_type": "code",
   "execution_count": 15,
   "id": "d1cb6e08-174c-4605-b8ff-252646dae362",
   "metadata": {},
   "outputs": [
    {
     "name": "stdout",
     "output_type": "stream",
     "text": [
      "Chi-Square statistic (χ²): 5.638227513227513\n",
      "p-value: 0.22784371130697179\n",
      "Degrees of freedom (df): 4\n",
      "Expected frequencies:\n",
      "[[ 48.  72.]\n",
      " [ 72. 108.]\n",
      " [ 60.  90.]\n",
      " [ 32.  48.]\n",
      " [ 28.  42.]]\n"
     ]
    }
   ],
   "source": [
    "print(\"Chi-Square statistic (χ²):\", chi2)\n",
    "print(\"p-value:\", p)\n",
    "print(\"Degrees of freedom (df):\", dof)\n",
    "print(\"Expected frequencies:\")\n",
    "print(expected)"
   ]
  },
  {
   "cell_type": "markdown",
   "id": "b3cd9a91-3f1b-467e-8e3a-ed36a0a759bc",
   "metadata": {},
   "source": [
    "# Conclusion:\n",
    "There is no statistically significant association between the type of smart home device (Smart Thermostats vs. Smart Lights) and the customer satisfaction level. The distribution of satisfaction levels appears to be independent of the type of device purchased"
   ]
  },
  {
   "cell_type": "code",
   "execution_count": null,
   "id": "a36315f7-7a18-4c77-8092-4927af4ca9c8",
   "metadata": {},
   "outputs": [],
   "source": []
  }
 ],
 "metadata": {
  "kernelspec": {
   "display_name": "Python [conda env:anaconda3]",
   "language": "python",
   "name": "conda-env-anaconda3-py"
  },
  "language_info": {
   "codemirror_mode": {
    "name": "ipython",
    "version": 3
   },
   "file_extension": ".py",
   "mimetype": "text/x-python",
   "name": "python",
   "nbconvert_exporter": "python",
   "pygments_lexer": "ipython3",
   "version": "3.12.7"
  }
 },
 "nbformat": 4,
 "nbformat_minor": 5
}
